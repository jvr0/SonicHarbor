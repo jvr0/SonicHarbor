{
 "cells": [
  {
   "cell_type": "code",
   "execution_count": 1,
   "id": "784fa88f",
   "metadata": {},
   "outputs": [],
   "source": [
    "import sys\n",
    "import time\n",
    "import pandas as pd\n",
    "from selenium import webdriver\n",
    "from selenium.webdriver.common.by import By\n",
    "from selenium.webdriver.support.ui import Select\n",
    "from selenium.webdriver.chrome.options import Options\n",
    "from webdriver_manager.chrome import ChromeDriverManager"
   ]
  },
  {
   "cell_type": "code",
   "execution_count": 2,
   "id": "97ca9123",
   "metadata": {},
   "outputs": [],
   "source": [
    "sys.path.append('../functions')\n",
    "\n",
    "from functions import *"
   ]
  },
  {
   "cell_type": "code",
   "execution_count": 3,
   "id": "9104034b",
   "metadata": {},
   "outputs": [],
   "source": [
    "# opciones del driver\n",
    "opciones = Options()\n",
    "\n",
    "# quita la bandera de ser robot\n",
    "opciones.add_experimental_option('excludeSwitches', ['enable-automation'])\n",
    "opciones.add_experimental_option('useAutomationExtension', False)\n",
    "\n",
    "# guardar las cookies\n",
    "opciones.add_argument('user-data-dir=cookies')    # mantiene las coockies"
   ]
  },
  {
   "cell_type": "markdown",
   "id": "111abc6e",
   "metadata": {},
   "source": [
    "# Discogs Scraping"
   ]
  },
  {
   "cell_type": "markdown",
   "id": "ad6f6b71",
   "metadata": {},
   "source": [
    "### Entrada a la web + cookies"
   ]
  },
  {
   "cell_type": "code",
   "execution_count": 4,
   "id": "4594b9d6",
   "metadata": {},
   "outputs": [],
   "source": [
    "url = 'https://www.discogs.com/es/seller/elarticodiscos/profile'\n",
    "\n",
    "driver = webdriver.Chrome(options = opciones)\n",
    "\n",
    "driver.get(url)"
   ]
  },
  {
   "cell_type": "code",
   "execution_count": 5,
   "id": "dd335e5b",
   "metadata": {},
   "outputs": [
    {
     "name": "stdout",
     "output_type": "stream",
     "text": [
      "No necesario\n"
     ]
    }
   ],
   "source": [
    "try:\n",
    "    driver.find_element(By.XPATH, '//*[@id=\"onetrust-reject-all-handler\"]').click()\n",
    "except:\n",
    "    print('No necesario')"
   ]
  },
  {
   "cell_type": "code",
   "execution_count": 6,
   "id": "5174e702",
   "metadata": {},
   "outputs": [],
   "source": [
    "# de 100 en 100\n",
    "try:\n",
    "    select = Select(driver.find_element(By.ID,'limit_top'))\n",
    "\n",
    "    select.select_by_value('250')\n",
    "\n",
    "except:\n",
    "    print('Casi majo...')"
   ]
  },
  {
   "cell_type": "code",
   "execution_count": 7,
   "id": "bc527357",
   "metadata": {},
   "outputs": [],
   "source": [
    "item_description = []\n",
    "price_description = []"
   ]
  },
  {
   "cell_type": "code",
   "execution_count": 8,
   "id": "02a2f79e",
   "metadata": {
    "scrolled": false
   },
   "outputs": [],
   "source": [
    "import time\n",
    "\n",
    "# Registra el tiempo de inicio\n",
    "start_time = time.time()\n",
    "\n",
    "for i in range(2):\n",
    "    # Limpia las listas en cada iteración\n",
    "    item_description = []\n",
    "    price_description = []\n",
    "    \n",
    "    # Supongamos que item(driver) y price(driver) son funciones válidas para obtener datos\n",
    "    item_description = item(driver)\n",
    "    price_description = price(driver)\n",
    "    \n",
    "    df_item = pd.DataFrame(item_description)\n",
    "    df_price = pd.DataFrame(price_description)\n",
    "    \n",
    "    # Construye el nombre de archivo con el valor de i\n",
    "    item_filename = f'../items{i}.csv'\n",
    "    price_filename = f'../price{i}.csv'\n",
    "\n",
    "    # Guarda los DataFrames en archivos CSV\n",
    "    df_item.to_csv(item_filename, index=False)  # index=False evita guardar el índice\n",
    "    df_price.to_csv(price_filename, index=False)\n",
    "\n",
    "    # Navegar a la siguiente página (suponiendo que next_page(driver) es una función válida)\n",
    "    next_page(driver)\n",
    "    \n",
    "# Registra el tiempo de finalización\n",
    "end_time = time.time()\n",
    "\n",
    "# Calcula el tiempo transcurrido\n",
    "elapsed_time = end_time - start_time"
   ]
  },
  {
   "cell_type": "markdown",
   "id": "3e5db004",
   "metadata": {},
   "source": [
    "item_description = item(driver)\n",
    "price_description = price(driver)\n",
    "\n",
    "df_item = pd.DataFrame(item_description)\n",
    "df_price = pd.DataFrame(price_description)\n",
    "\n",
    "df2 = pd.concat([df_item, df_price], axis=1)"
   ]
  },
  {
   "cell_type": "markdown",
   "id": "46b48366",
   "metadata": {},
   "source": [
    "result = pd.concat([df1, df2], axis=0)\n",
    "result.columns = ['artist', 'album', 'label', 'item_condition', 'sleeve_condition', 'price', 'ship_price', 'final_price']\n",
    "df = result.reset_index()\n",
    "df.head()"
   ]
  },
  {
   "cell_type": "code",
   "execution_count": 11,
   "id": "8876e799",
   "metadata": {},
   "outputs": [],
   "source": [
    "driver.quit()"
   ]
  }
 ],
 "metadata": {
  "kernelspec": {
   "display_name": "Python 3 (ipykernel)",
   "language": "python",
   "name": "python3"
  },
  "language_info": {
   "codemirror_mode": {
    "name": "ipython",
    "version": 3
   },
   "file_extension": ".py",
   "mimetype": "text/x-python",
   "name": "python",
   "nbconvert_exporter": "python",
   "pygments_lexer": "ipython3",
   "version": "3.11.5"
  }
 },
 "nbformat": 4,
 "nbformat_minor": 5
}
