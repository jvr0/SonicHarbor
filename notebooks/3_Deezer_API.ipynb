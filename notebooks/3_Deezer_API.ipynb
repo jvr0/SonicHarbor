{
 "cells": [
  {
   "cell_type": "markdown",
   "id": "fc86878b",
   "metadata": {},
   "source": [
    "Se Scrapeará la wikipedia para enriquecer la información obtenida por la revista rolling stone"
   ]
  },
  {
   "cell_type": "code",
   "execution_count": 1,
   "id": "d6155ab9",
   "metadata": {},
   "outputs": [],
   "source": [
    "import requests as req\n",
    "import pandas as pd\n",
    "import warnings\n",
    "import time\n",
    "import json\n",
    "import sys"
   ]
  },
  {
   "cell_type": "code",
   "execution_count": 2,
   "id": "5a1f6e75",
   "metadata": {},
   "outputs": [],
   "source": [
    "sys.path.append('../src')\n",
    "\n",
    "from API_support import *"
   ]
  },
  {
   "cell_type": "code",
   "execution_count": 3,
   "id": "75bd6b91",
   "metadata": {},
   "outputs": [],
   "source": [
    "df = pd.read_csv('../../sonic_harbor.inven.csv')"
   ]
  },
  {
   "cell_type": "code",
   "execution_count": 4,
   "id": "dcb8da25",
   "metadata": {},
   "outputs": [
    {
     "data": {
      "text/html": [
       "<div>\n",
       "<style scoped>\n",
       "    .dataframe tbody tr th:only-of-type {\n",
       "        vertical-align: middle;\n",
       "    }\n",
       "\n",
       "    .dataframe tbody tr th {\n",
       "        vertical-align: top;\n",
       "    }\n",
       "\n",
       "    .dataframe thead th {\n",
       "        text-align: right;\n",
       "    }\n",
       "</style>\n",
       "<table border=\"1\" class=\"dataframe\">\n",
       "  <thead>\n",
       "    <tr style=\"text-align: right;\">\n",
       "      <th></th>\n",
       "      <th>_id</th>\n",
       "      <th>author</th>\n",
       "      <th>album</th>\n",
       "      <th>label</th>\n",
       "      <th>item_condition</th>\n",
       "      <th>sleeve_condition</th>\n",
       "      <th>price</th>\n",
       "      <th>ship_price</th>\n",
       "      <th>final_price</th>\n",
       "    </tr>\n",
       "  </thead>\n",
       "  <tbody>\n",
       "    <tr>\n",
       "      <th>0</th>\n",
       "      <td>6544ebd00d20ed70b40d2a9a</td>\n",
       "      <td>Kid Rock</td>\n",
       "      <td>The History Of Rock</td>\n",
       "      <td>Lava, Lava, Atlantic, Top Dog Records</td>\n",
       "      <td>Near Mint (NM or M-)</td>\n",
       "      <td>Near Mint (NM or M-)</td>\n",
       "      <td>5.99</td>\n",
       "      <td>3.6</td>\n",
       "      <td>9.59</td>\n",
       "    </tr>\n",
       "    <tr>\n",
       "      <th>1</th>\n",
       "      <td>6544ebd00d20ed70b40d2a9b</td>\n",
       "      <td>Kid Rock (2)</td>\n",
       "      <td>Ic</td>\n",
       "      <td>Poplandia, Young Blood</td>\n",
       "      <td>Near Mint (NM or M-)</td>\n",
       "      <td>Very Good Plus (VG+)</td>\n",
       "      <td>34.99</td>\n",
       "      <td>3.6</td>\n",
       "      <td>38.59</td>\n",
       "    </tr>\n",
       "    <tr>\n",
       "      <th>2</th>\n",
       "      <td>6544ebd00d20ed70b40d2a9c</td>\n",
       "      <td>Olga Ramos</td>\n",
       "      <td>Antologia Del Cuplé</td>\n",
       "      <td>Movieplay</td>\n",
       "      <td>Very Good Plus (VG+)</td>\n",
       "      <td>Very Good Plus (VG+)</td>\n",
       "      <td>2.99</td>\n",
       "      <td>3.6</td>\n",
       "      <td>6.59</td>\n",
       "    </tr>\n",
       "    <tr>\n",
       "      <th>3</th>\n",
       "      <td>6544ebd00d20ed70b40d2a9d</td>\n",
       "      <td>Graham Parker</td>\n",
       "      <td>Protection</td>\n",
       "      <td>Vertigo</td>\n",
       "      <td>Near Mint (NM or M-)</td>\n",
       "      <td>Very Good Plus (VG+)</td>\n",
       "      <td>4.99</td>\n",
       "      <td>3.6</td>\n",
       "      <td>8.59</td>\n",
       "    </tr>\n",
       "    <tr>\n",
       "      <th>4</th>\n",
       "      <td>6544ebd00d20ed70b40d2a9e</td>\n",
       "      <td>Jimmy Frey</td>\n",
       "      <td>Rosas A Sandra / Yo Soy De Carne Y Hueso</td>\n",
       "      <td>Exit Records (4), EKIPO</td>\n",
       "      <td>Very Good Plus (VG+)</td>\n",
       "      <td>Very Good (VG)</td>\n",
       "      <td>0.99</td>\n",
       "      <td>3.6</td>\n",
       "      <td>4.59</td>\n",
       "    </tr>\n",
       "  </tbody>\n",
       "</table>\n",
       "</div>"
      ],
      "text/plain": [
       "                        _id         author  \\\n",
       "0  6544ebd00d20ed70b40d2a9a       Kid Rock   \n",
       "1  6544ebd00d20ed70b40d2a9b   Kid Rock (2)   \n",
       "2  6544ebd00d20ed70b40d2a9c     Olga Ramos   \n",
       "3  6544ebd00d20ed70b40d2a9d  Graham Parker   \n",
       "4  6544ebd00d20ed70b40d2a9e     Jimmy Frey   \n",
       "\n",
       "                                      album  \\\n",
       "0                       The History Of Rock   \n",
       "1                                        Ic   \n",
       "2                       Antologia Del Cuplé   \n",
       "3                                Protection   \n",
       "4  Rosas A Sandra / Yo Soy De Carne Y Hueso   \n",
       "\n",
       "                                   label        item_condition  \\\n",
       "0  Lava, Lava, Atlantic, Top Dog Records  Near Mint (NM or M-)   \n",
       "1                 Poplandia, Young Blood  Near Mint (NM or M-)   \n",
       "2                              Movieplay  Very Good Plus (VG+)   \n",
       "3                                Vertigo  Near Mint (NM or M-)   \n",
       "4                Exit Records (4), EKIPO  Very Good Plus (VG+)   \n",
       "\n",
       "       sleeve_condition  price  ship_price  final_price  \n",
       "0  Near Mint (NM or M-)   5.99         3.6         9.59  \n",
       "1  Very Good Plus (VG+)  34.99         3.6        38.59  \n",
       "2  Very Good Plus (VG+)   2.99         3.6         6.59  \n",
       "3  Very Good Plus (VG+)   4.99         3.6         8.59  \n",
       "4        Very Good (VG)   0.99         3.6         4.59  "
      ]
     },
     "execution_count": 4,
     "metadata": {},
     "output_type": "execute_result"
    }
   ],
   "source": [
    "df.head()"
   ]
  },
  {
   "cell_type": "code",
   "execution_count": null,
   "id": "b0ff386f",
   "metadata": {},
   "outputs": [],
   "source": [
    "df['song_rank'] = df['album'].apply(get_rank)"
   ]
  },
  {
   "cell_type": "code",
   "execution_count": null,
   "id": "fd876046",
   "metadata": {},
   "outputs": [],
   "source": [
    "df.head()"
   ]
  }
 ],
 "metadata": {
  "kernelspec": {
   "display_name": "Python 3 (ipykernel)",
   "language": "python",
   "name": "python3"
  },
  "language_info": {
   "codemirror_mode": {
    "name": "ipython",
    "version": 3
   },
   "file_extension": ".py",
   "mimetype": "text/x-python",
   "name": "python",
   "nbconvert_exporter": "python",
   "pygments_lexer": "ipython3",
   "version": "3.11.5"
  }
 },
 "nbformat": 4,
 "nbformat_minor": 5
}
