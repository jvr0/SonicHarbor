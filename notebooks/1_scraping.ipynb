{
 "cells": [
  {
   "cell_type": "code",
   "execution_count": 2,
   "id": "784fa88f",
   "metadata": {},
   "outputs": [],
   "source": [
    "import sys\n",
    "import time\n",
    "import pandas as pd\n",
    "from selenium import webdriver\n",
    "from selenium.webdriver.common.by import By\n",
    "from selenium.webdriver.support.ui import Select\n",
    "from selenium.webdriver.chrome.options import Options\n",
    "from webdriver_manager.chrome import ChromeDriverManager\n",
    "from pymongo import MongoClient"
   ]
  },
  {
   "cell_type": "code",
   "execution_count": 3,
   "id": "97ca9123",
   "metadata": {},
   "outputs": [],
   "source": [
    "sys.path.append('../src')\n",
    "\n",
    "from scraping_support import *"
   ]
  },
  {
   "cell_type": "code",
   "execution_count": 4,
   "id": "9104034b",
   "metadata": {},
   "outputs": [],
   "source": [
    "# opciones del driver\n",
    "opciones = Options()\n",
    "\n",
    "# quita la bandera de ser robot\n",
    "opciones.add_experimental_option('excludeSwitches', ['enable-automation'])\n",
    "opciones.add_experimental_option('useAutomationExtension', False)\n",
    "\n",
    "# guardar las cookies\n",
    "opciones.add_argument('user-data-dir=cookies')    # mantiene las coockies"
   ]
  },
  {
   "cell_type": "markdown",
   "id": "111abc6e",
   "metadata": {},
   "source": [
    "# Discogs Scraping"
   ]
  },
  {
   "cell_type": "markdown",
   "id": "ad6f6b71",
   "metadata": {},
   "source": [
    "### Entrada a El Artico Discos y preparación de scrapeo 250/250"
   ]
  },
  {
   "cell_type": "code",
   "execution_count": 4,
   "id": "4594b9d6",
   "metadata": {},
   "outputs": [],
   "source": [
    "url = 'https://www.discogs.com/es/seller/elarticodiscos/profile'\n",
    "\n",
    "driver = webdriver.Chrome(options = opciones)\n",
    "\n",
    "driver.get(url)"
   ]
  },
  {
   "cell_type": "code",
   "execution_count": 5,
   "id": "dd335e5b",
   "metadata": {},
   "outputs": [
    {
     "name": "stdout",
     "output_type": "stream",
     "text": [
      "No necesario\n"
     ]
    }
   ],
   "source": [
    "try:\n",
    "    driver.find_element(By.XPATH, '//*[@id=\"onetrust-reject-all-handler\"]').click()\n",
    "except:\n",
    "    print('No necesario')"
   ]
  },
  {
   "cell_type": "code",
   "execution_count": 6,
   "id": "ec9a8a3b",
   "metadata": {},
   "outputs": [],
   "source": [
    "# de 250 en 250\n",
    "try:\n",
    "    select = Select(driver.find_element(By.ID,'limit_top'))\n",
    "\n",
    "    select.select_by_value('250')\n",
    "\n",
    "except:\n",
    "    print('Casi majo...')"
   ]
  },
  {
   "cell_type": "markdown",
   "id": "b7e73405",
   "metadata": {},
   "source": [
    "### Creación de base de datos MongoDB"
   ]
  },
  {
   "cell_type": "code",
   "execution_count": 5,
   "id": "430bde78",
   "metadata": {},
   "outputs": [
    {
     "data": {
      "text/plain": [
       "MongoClient(host=['localhost:27017'], document_class=dict, tz_aware=False, connect=True)"
      ]
     },
     "execution_count": 5,
     "metadata": {},
     "output_type": "execute_result"
    }
   ],
   "source": [
    "# Establecemos el cursor con la string de conexión por defecto\n",
    "\n",
    "str_conn = 'mongodb://localhost:27017'   # str_con por defecto\n",
    "\n",
    "cursor = MongoClient(str_conn)\n",
    "\n",
    "cursor"
   ]
  },
  {
   "cell_type": "code",
   "execution_count": 6,
   "id": "1f350650",
   "metadata": {},
   "outputs": [],
   "source": [
    "# Creamos la base de datos\n",
    "\n",
    "SonicHarbor = cursor.sonic_harbor\n",
    "\n",
    "# Creamos la colección (similar a tabla SQL)\n",
    "\n",
    "inventario = SonicHarbor.inventario"
   ]
  },
  {
   "cell_type": "markdown",
   "id": "0d42e96e",
   "metadata": {},
   "source": [
    "### Obtención de datos"
   ]
  },
  {
   "cell_type": "code",
   "execution_count": 9,
   "id": "02a2f79e",
   "metadata": {
    "scrolled": false
   },
   "outputs": [
    {
     "name": "stdout",
     "output_type": "stream",
     "text": [
      "página 0\n",
      "página 1\n",
      "página 2\n",
      "página 3\n",
      "página 4\n",
      "página 5\n",
      "página 6\n",
      "página 7\n",
      "página 8\n",
      "página 9\n",
      "página 10\n",
      "página 11\n",
      "página 12\n",
      "página 13\n",
      "página 14\n",
      "página 15\n",
      "página 16\n",
      "página 17\n",
      "página 18\n",
      "página 19\n",
      "página 20\n",
      "página 21\n",
      "página 22\n",
      "página 23\n",
      "página 24\n",
      "página 25\n",
      "página 26\n",
      "página 27\n",
      "página 28\n",
      "página 29\n",
      "página 30\n",
      "página 31\n",
      "página 32\n",
      "página 33\n",
      "página 34\n",
      "página 35\n",
      "página 36\n",
      "página 37\n",
      "página 38\n",
      "página 39\n"
     ]
    }
   ],
   "source": [
    "for i in range(40):\n",
    "    \n",
    "    print(f'página {i}')\n",
    "    \n",
    "    time.sleep(3)\n",
    "    \n",
    "    # Limpia las listas en cada iteración\n",
    "    item_description = []\n",
    "    price_description = []        \n",
    "        \n",
    "# Obtención de datos\n",
    "    try: \n",
    "        item_description = item(driver)\n",
    "        price_description = price(driver)\n",
    "    except:\n",
    "        print(f'Fallo extracción {i}')\n",
    "        \n",
    "    \n",
    "# Crear y preparar df\n",
    "    try:\n",
    "        df_item = pd.DataFrame(item_description)\n",
    "        df_price = pd.DataFrame(price_description)\n",
    "\n",
    "        #Concatenar los df, columnas e índice\n",
    "        result = pd.concat([df_item, df_price], axis=1)\n",
    "        result.columns = ['author', 'album', 'label', 'item_condition', 'sleeve_condition', 'price', 'ship_price', 'final_price']\n",
    "    except:\n",
    "        print(f'Fallo transformación {i}')\n",
    "\n",
    "# Envió a mongo\n",
    "    try:\n",
    "        inventario.insert_many(result.to_dict(orient='records'))\n",
    "    except:\n",
    "        print(f'Fallo envió a Mongo {i}')\n",
    "    \n",
    "# Navegar a la siguiente página    \n",
    "    try:\n",
    "        next_page(driver)\n",
    "    except:\n",
    "        print(f'Fallo navegación a {i}')"
   ]
  },
  {
   "cell_type": "markdown",
   "id": "eac45b76",
   "metadata": {},
   "source": [
    "Se realizan 40 iteraciones, lo que nos dará 10.000 items con información a lo largo de 8 columnas. Se decide no escrapear la totalidad de items debido a que no es necesario para la consecución de los objetivos de este proyecto."
   ]
  },
  {
   "cell_type": "markdown",
   "id": "07766ad4",
   "metadata": {},
   "source": [
    "### Cierre de Scrapeo"
   ]
  },
  {
   "cell_type": "code",
   "execution_count": 10,
   "id": "8876e799",
   "metadata": {},
   "outputs": [],
   "source": [
    "driver.quit()"
   ]
  }
 ],
 "metadata": {
  "kernelspec": {
   "display_name": "Python 3 (ipykernel)",
   "language": "python",
   "name": "python3"
  },
  "language_info": {
   "codemirror_mode": {
    "name": "ipython",
    "version": 3
   },
   "file_extension": ".py",
   "mimetype": "text/x-python",
   "name": "python",
   "nbconvert_exporter": "python",
   "pygments_lexer": "ipython3",
   "version": "3.11.5"
  }
 },
 "nbformat": 4,
 "nbformat_minor": 5
}
