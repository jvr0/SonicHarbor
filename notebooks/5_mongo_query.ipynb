{
 "cells": [
  {
   "cell_type": "code",
   "execution_count": 1,
   "id": "f0e05162",
   "metadata": {},
   "outputs": [],
   "source": [
    "from pymongo import MongoClient\n",
    "import pandas as pd\n",
    "pd.options.display.max_columns = None"
   ]
  },
  {
   "cell_type": "code",
   "execution_count": 2,
   "id": "c2bc5767",
   "metadata": {},
   "outputs": [],
   "source": [
    "cursor = MongoClient()"
   ]
  },
  {
   "cell_type": "code",
   "execution_count": 3,
   "id": "ddf36096",
   "metadata": {},
   "outputs": [],
   "source": [
    "# Llamamos a la base de datos\n",
    "db = cursor.sonic_harbor"
   ]
  },
  {
   "cell_type": "code",
   "execution_count": 4,
   "id": "0bd7cb29",
   "metadata": {},
   "outputs": [],
   "source": [
    "# Apuntamos hacia el inventario\n",
    "inven = db.inventario"
   ]
  },
  {
   "cell_type": "markdown",
   "id": "72b470c8",
   "metadata": {},
   "source": [
    "#### 10 items más caros del inventario con precio final superior a 50"
   ]
  },
  {
   "cell_type": "code",
   "execution_count": 5,
   "id": "180c540a",
   "metadata": {},
   "outputs": [
    {
     "data": {
      "text/plain": [
       "[{'album': 'Flamenco Ole! = フラメンコ・オーレ!', 'final_price': 199.99},\n",
       " {'album': '4:13 Dream', 'final_price': 175.0},\n",
       " {'album': 'Uget', 'final_price': 99.99},\n",
       " {'album': 'Hold It', 'final_price': 99.99},\n",
       " {'album': 'Come Prima / Magic Moments / Marjolaine / Katsumi Love Theme',\n",
       "  'final_price': 99.99},\n",
       " {'album': 'Harbinger', 'final_price': 99.99},\n",
       " {'album': 'The Dungeons Are Calling', 'final_price': 99.99},\n",
       " {'album': 'Vol.2', 'final_price': 82.44},\n",
       " {'album': 'Live At The 19th Montreux Jazz Festival', 'final_price': 79.99},\n",
       " {'album': 'Ultra', 'final_price': 79.99}]"
      ]
     },
     "execution_count": 5,
     "metadata": {},
     "output_type": "execute_result"
    }
   ],
   "source": [
    "query = {'final_price': {'$gte':70}}\n",
    "\n",
    "select = {'_id':False, 'album': 1, 'final_price':1}\n",
    "\n",
    "list(inven.find(query,select).limit(10).sort('final_price', -1))"
   ]
  },
  {
   "cell_type": "markdown",
   "id": "90df925a",
   "metadata": {},
   "source": [
    "#### Albums a la venta de los beattles ordenados por precio"
   ]
  },
  {
   "cell_type": "code",
   "execution_count": 12,
   "id": "b80b3d0c",
   "metadata": {},
   "outputs": [
    {
     "data": {
      "text/plain": [
       "[{'author': 'The Beatles', 'album': 'The Beatles At The Hollywood Bowl'},\n",
       " {'author': 'The Beatles', 'album': 'Canciones De Amor'},\n",
       " {'author': 'The Beatles',\n",
       "  'album': 'A Collection Of Beatles Oldies / Los Grandes Exitos De Los Beatles'},\n",
       " {'author': 'The Beatles', 'album': '20 Éxitos De Oro'},\n",
       " {'author': 'The Beatles', 'album': '1'}]"
      ]
     },
     "execution_count": 12,
     "metadata": {},
     "output_type": "execute_result"
    }
   ],
   "source": [
    "query = {'author': 'The Beatles'}\n",
    "\n",
    "select = {'_id':False, 'author': 1, 'album':1}\n",
    "\n",
    "list(inven.find(query,select).sort('final_price', -1))"
   ]
  },
  {
   "cell_type": "markdown",
   "id": "af9412b8",
   "metadata": {},
   "source": [
    "#### Aquellos articulos sin gasto de envió e item condition near mint, busqueda limitada a los 5 más caros"
   ]
  },
  {
   "cell_type": "code",
   "execution_count": 19,
   "id": "a5243002",
   "metadata": {},
   "outputs": [
    {
     "data": {
      "text/plain": [
       "[{'album': 'Flamenco Ole! = フラメンコ・オーレ!',\n",
       "  'ship_price': 0.0,\n",
       "  'final_price': 199.99},\n",
       " {'album': '4:13 Dream', 'ship_price': 0.0, 'final_price': 175.0},\n",
       " {'album': 'The Dungeons Are Calling',\n",
       "  'ship_price': 0.0,\n",
       "  'final_price': 99.99},\n",
       " {'album': 'Harbinger', 'ship_price': 0.0, 'final_price': 99.99},\n",
       " {'album': 'Uget', 'ship_price': 0.0, 'final_price': 99.99}]"
      ]
     },
     "execution_count": 19,
     "metadata": {},
     "output_type": "execute_result"
    }
   ],
   "source": [
    "query = {'ship_price': 0,\n",
    "         'item_condition': 'Near Mint (NM or M-)'}\n",
    "\n",
    "select = {'_id':False, 'album': 1, 'ship_price':1, 'final_price':1}\n",
    "\n",
    "list(inven.find(query,select).limit(5).sort('final_price', -1))"
   ]
  },
  {
   "cell_type": "markdown",
   "id": "18170f46",
   "metadata": {},
   "source": [
    "#### Los discos con sleeve_condition Very Good (VG) y precio final entre 10 y 20"
   ]
  },
  {
   "cell_type": "code",
   "execution_count": 23,
   "id": "618c79d3",
   "metadata": {},
   "outputs": [
    {
     "data": {
      "text/plain": [
       "[{'album': 'Fela Johnson',\n",
       "  'sleeve_condition': 'Very Good (VG)',\n",
       "  'final_price': 19.89},\n",
       " {'album': 'Ooh, La, La',\n",
       "  'sleeve_condition': 'Very Good (VG)',\n",
       "  'final_price': 19.89},\n",
       " {'album': 'Emotional Rescue',\n",
       "  'sleeve_condition': 'Very Good (VG)',\n",
       "  'final_price': 19.89},\n",
       " {'album': 'Lecuona Interpreta Lecuona',\n",
       "  'sleeve_condition': 'Very Good (VG)',\n",
       "  'final_price': 19.89},\n",
       " {'album': 'Cacahué',\n",
       "  'sleeve_condition': 'Very Good (VG)',\n",
       "  'final_price': 19.89}]"
      ]
     },
     "execution_count": 23,
     "metadata": {},
     "output_type": "execute_result"
    }
   ],
   "source": [
    "query = {'$and': [{'final_price': {'$gte':10}},\n",
    "                 {'final_price': {'$lte':20}},\n",
    "                 {'sleeve_condition': 'Very Good (VG)'}]}\n",
    "\n",
    "select = {'_id':False, 'album': 1, 'final_price':1, 'sleeve_condition':1}\n",
    "\n",
    "list(inven.find(query,select).limit(5).sort('final_price', -1))"
   ]
  }
 ],
 "metadata": {
  "kernelspec": {
   "display_name": "Python 3 (ipykernel)",
   "language": "python",
   "name": "python3"
  },
  "language_info": {
   "codemirror_mode": {
    "name": "ipython",
    "version": 3
   },
   "file_extension": ".py",
   "mimetype": "text/x-python",
   "name": "python",
   "nbconvert_exporter": "python",
   "pygments_lexer": "ipython3",
   "version": "3.11.5"
  }
 },
 "nbformat": 4,
 "nbformat_minor": 5
}
