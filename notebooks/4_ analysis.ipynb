{
 "cells": [
  {
   "cell_type": "code",
   "execution_count": 2,
   "id": "165ddc52",
   "metadata": {},
   "outputs": [],
   "source": [
    "import pandas as pd\n",
    "import numpy as np"
   ]
  },
  {
   "cell_type": "code",
   "execution_count": 24,
   "id": "51b68e07",
   "metadata": {},
   "outputs": [],
   "source": [
    "df = pd.read_csv('../data/sonic_harbor_inventario.csv')\n",
    "dfrolling = pd.read_csv('../data/rolling_clean.csv')"
   ]
  },
  {
   "cell_type": "markdown",
   "id": "00844a0c",
   "metadata": {},
   "source": [
    "Importamos ambas bases de datos para contrastarlas y comprobar cuantos de los items del inventario de El Ártico Discos se encuentran entre los 500 mejores albumes de la revista Rolling Stone."
   ]
  },
  {
   "cell_type": "code",
   "execution_count": 37,
   "id": "01af0b67",
   "metadata": {},
   "outputs": [],
   "source": [
    "dfinal = pd.merge(df, dfrolling, on=['artist', 'album'])"
   ]
  },
  {
   "cell_type": "code",
   "execution_count": 38,
   "id": "e0614d8b",
   "metadata": {},
   "outputs": [
    {
     "data": {
      "text/html": [
       "<div>\n",
       "<style scoped>\n",
       "    .dataframe tbody tr th:only-of-type {\n",
       "        vertical-align: middle;\n",
       "    }\n",
       "\n",
       "    .dataframe tbody tr th {\n",
       "        vertical-align: top;\n",
       "    }\n",
       "\n",
       "    .dataframe thead th {\n",
       "        text-align: right;\n",
       "    }\n",
       "</style>\n",
       "<table border=\"1\" class=\"dataframe\">\n",
       "  <thead>\n",
       "    <tr style=\"text-align: right;\">\n",
       "      <th></th>\n",
       "      <th>_id</th>\n",
       "      <th>artist</th>\n",
       "      <th>album</th>\n",
       "      <th>label</th>\n",
       "      <th>item_condition</th>\n",
       "      <th>sleeve_condition</th>\n",
       "      <th>price</th>\n",
       "      <th>ship_price</th>\n",
       "      <th>final_price</th>\n",
       "      <th>song_rank</th>\n",
       "      <th>id</th>\n",
       "      <th>year</th>\n",
       "      <th>genre</th>\n",
       "      <th>subgenre</th>\n",
       "    </tr>\n",
       "  </thead>\n",
       "  <tbody>\n",
       "    <tr>\n",
       "      <th>0</th>\n",
       "      <td>180</td>\n",
       "      <td>The Cure</td>\n",
       "      <td>Disintegration</td>\n",
       "      <td>Polydor, Fiction Records</td>\n",
       "      <td>Near Mint (NM or M-)</td>\n",
       "      <td>Near Mint (NM or M-)</td>\n",
       "      <td>44.99</td>\n",
       "      <td>4.9</td>\n",
       "      <td>49.89</td>\n",
       "      <td>{'Lullaby (Remastered)': 409088, 'Lovesong (Re...</td>\n",
       "      <td>326</td>\n",
       "      <td>1989</td>\n",
       "      <td>Electronic, Rock</td>\n",
       "      <td>New Wave, Alternative Rock</td>\n",
       "    </tr>\n",
       "    <tr>\n",
       "      <th>1</th>\n",
       "      <td>246</td>\n",
       "      <td>The Who</td>\n",
       "      <td>The Who Sell Out</td>\n",
       "      <td>Polydor</td>\n",
       "      <td>Mint (M)</td>\n",
       "      <td>Mint (M)</td>\n",
       "      <td>7.99</td>\n",
       "      <td>3.6</td>\n",
       "      <td>11.59</td>\n",
       "      <td>{'Girl’s Eyes (Take 2 / 2018 Mix)': 18071, 'Od...</td>\n",
       "      <td>115</td>\n",
       "      <td>1967</td>\n",
       "      <td>Rock</td>\n",
       "      <td>Psychedelic Rock, Mod</td>\n",
       "    </tr>\n",
       "    <tr>\n",
       "      <th>2</th>\n",
       "      <td>579</td>\n",
       "      <td>Madonna</td>\n",
       "      <td>The Immaculate Collection</td>\n",
       "      <td>Sire, Warner Bros. Records</td>\n",
       "      <td>Very Good Plus (VG+)</td>\n",
       "      <td>Near Mint (NM or M-)</td>\n",
       "      <td>4.99</td>\n",
       "      <td>3.6</td>\n",
       "      <td>8.59</td>\n",
       "      <td>{'Holiday': 771085, 'Justify My Love': 552999,...</td>\n",
       "      <td>184</td>\n",
       "      <td>1990</td>\n",
       "      <td>Electronic, Pop</td>\n",
       "      <td>Synth-pop</td>\n",
       "    </tr>\n",
       "    <tr>\n",
       "      <th>3</th>\n",
       "      <td>632</td>\n",
       "      <td>Led Zeppelin</td>\n",
       "      <td>Led Zeppelin</td>\n",
       "      <td>Atlantic</td>\n",
       "      <td>Very Good Plus (VG+)</td>\n",
       "      <td>Near Mint (NM or M-)</td>\n",
       "      <td>4.99</td>\n",
       "      <td>3.6</td>\n",
       "      <td>8.59</td>\n",
       "      <td>{'Stairway to Heaven (Remaster)': 650057, 'Bla...</td>\n",
       "      <td>29</td>\n",
       "      <td>1969</td>\n",
       "      <td>Rock</td>\n",
       "      <td>Blues Rock, Hard Rock</td>\n",
       "    </tr>\n",
       "    <tr>\n",
       "      <th>4</th>\n",
       "      <td>1571</td>\n",
       "      <td>Lou Reed</td>\n",
       "      <td>Berlin</td>\n",
       "      <td>RCA</td>\n",
       "      <td>Near Mint (NM or M-)</td>\n",
       "      <td>Near Mint (NM or M-)</td>\n",
       "      <td>7.99</td>\n",
       "      <td>3.6</td>\n",
       "      <td>11.59</td>\n",
       "      <td>{'Sky and Sand': 757241, 'Berlín': 316791, 'Si...</td>\n",
       "      <td>344</td>\n",
       "      <td>1973</td>\n",
       "      <td>Rock</td>\n",
       "      <td>Hard Rock</td>\n",
       "    </tr>\n",
       "  </tbody>\n",
       "</table>\n",
       "</div>"
      ],
      "text/plain": [
       "    _id        artist                      album                       label  \\\n",
       "0   180      The Cure             Disintegration    Polydor, Fiction Records   \n",
       "1   246       The Who           The Who Sell Out                     Polydor   \n",
       "2   579       Madonna  The Immaculate Collection  Sire, Warner Bros. Records   \n",
       "3   632  Led Zeppelin               Led Zeppelin                    Atlantic   \n",
       "4  1571      Lou Reed                     Berlin                         RCA   \n",
       "\n",
       "         item_condition      sleeve_condition  price  ship_price  final_price  \\\n",
       "0  Near Mint (NM or M-)  Near Mint (NM or M-)  44.99         4.9        49.89   \n",
       "1              Mint (M)              Mint (M)   7.99         3.6        11.59   \n",
       "2  Very Good Plus (VG+)  Near Mint (NM or M-)   4.99         3.6         8.59   \n",
       "3  Very Good Plus (VG+)  Near Mint (NM or M-)   4.99         3.6         8.59   \n",
       "4  Near Mint (NM or M-)  Near Mint (NM or M-)   7.99         3.6        11.59   \n",
       "\n",
       "                                           song_rank   id  year  \\\n",
       "0  {'Lullaby (Remastered)': 409088, 'Lovesong (Re...  326  1989   \n",
       "1  {'Girl’s Eyes (Take 2 / 2018 Mix)': 18071, 'Od...  115  1967   \n",
       "2  {'Holiday': 771085, 'Justify My Love': 552999,...  184  1990   \n",
       "3  {'Stairway to Heaven (Remaster)': 650057, 'Bla...   29  1969   \n",
       "4  {'Sky and Sand': 757241, 'Berlín': 316791, 'Si...  344  1973   \n",
       "\n",
       "              genre                    subgenre  \n",
       "0  Electronic, Rock  New Wave, Alternative Rock  \n",
       "1              Rock       Psychedelic Rock, Mod  \n",
       "2   Electronic, Pop                   Synth-pop  \n",
       "3              Rock       Blues Rock, Hard Rock  \n",
       "4              Rock                   Hard Rock  "
      ]
     },
     "execution_count": 38,
     "metadata": {},
     "output_type": "execute_result"
    }
   ],
   "source": [
    "dfinal.head()"
   ]
  },
  {
   "cell_type": "code",
   "execution_count": 36,
   "id": "a25f670e",
   "metadata": {},
   "outputs": [
    {
     "data": {
      "text/plain": [
       "(25, 14)"
      ]
     },
     "execution_count": 36,
     "metadata": {},
     "output_type": "execute_result"
    }
   ],
   "source": [
    "dfinal.shape"
   ]
  },
  {
   "cell_type": "code",
   "execution_count": 39,
   "id": "c705c8a4",
   "metadata": {},
   "outputs": [
    {
     "data": {
      "text/plain": [
       "15.43"
      ]
     },
     "execution_count": 39,
     "metadata": {},
     "output_type": "execute_result"
    }
   ],
   "source": [
    "dfinal.final_price.mean()"
   ]
  },
  {
   "cell_type": "code",
   "execution_count": 40,
   "id": "c3f23966",
   "metadata": {},
   "outputs": [
    {
     "data": {
      "text/plain": [
       "genre\n",
       "Rock                18\n",
       "Funk / Soul, Pop     2\n",
       "Electronic, Rock     1\n",
       "Electronic, Pop      1\n",
       "Rock, Latin          1\n",
       "Rock, Blues          1\n",
       "Hip Hop              1\n",
       "Name: count, dtype: int64"
      ]
     },
     "execution_count": 40,
     "metadata": {},
     "output_type": "execute_result"
    }
   ],
   "source": [
    "dfinal.genre.value_counts()"
   ]
  },
  {
   "cell_type": "code",
   "execution_count": 44,
   "id": "6fd8eb93",
   "metadata": {},
   "outputs": [
    {
     "data": {
      "text/plain": [
       "item_condition\n",
       "Near Mint (NM or M-)    64.0\n",
       "Very Good Plus (VG+)    32.0\n",
       "Mint (M)                 4.0\n",
       "Name: proportion, dtype: float64"
      ]
     },
     "execution_count": 44,
     "metadata": {},
     "output_type": "execute_result"
    }
   ],
   "source": [
    "dfinal['item_condition'].value_counts(normalize=True) * 100"
   ]
  },
  {
   "cell_type": "code",
   "execution_count": 45,
   "id": "79176a90",
   "metadata": {},
   "outputs": [
    {
     "data": {
      "text/plain": [
       "sleeve_condition\n",
       "Near Mint (NM or M-)    92.0\n",
       "Mint (M)                 4.0\n",
       "Very Good Plus (VG+)     4.0\n",
       "Name: proportion, dtype: float64"
      ]
     },
     "execution_count": 45,
     "metadata": {},
     "output_type": "execute_result"
    }
   ],
   "source": [
    "dfinal['sleeve_condition'].value_counts(normalize=True) * 100"
   ]
  },
  {
   "cell_type": "code",
   "execution_count": 50,
   "id": "e02b9250",
   "metadata": {},
   "outputs": [
    {
     "data": {
      "text/html": [
       "<div>\n",
       "<style scoped>\n",
       "    .dataframe tbody tr th:only-of-type {\n",
       "        vertical-align: middle;\n",
       "    }\n",
       "\n",
       "    .dataframe tbody tr th {\n",
       "        vertical-align: top;\n",
       "    }\n",
       "\n",
       "    .dataframe thead th {\n",
       "        text-align: right;\n",
       "    }\n",
       "</style>\n",
       "<table border=\"1\" class=\"dataframe\">\n",
       "  <thead>\n",
       "    <tr style=\"text-align: right;\">\n",
       "      <th></th>\n",
       "      <th>count</th>\n",
       "      <th>mean</th>\n",
       "      <th>std</th>\n",
       "      <th>min</th>\n",
       "      <th>25%</th>\n",
       "      <th>50%</th>\n",
       "      <th>75%</th>\n",
       "      <th>max</th>\n",
       "    </tr>\n",
       "  </thead>\n",
       "  <tbody>\n",
       "    <tr>\n",
       "      <th>price</th>\n",
       "      <td>25.0</td>\n",
       "      <td>11.87</td>\n",
       "      <td>16.838250</td>\n",
       "      <td>3.99</td>\n",
       "      <td>4.99</td>\n",
       "      <td>5.99</td>\n",
       "      <td>7.99</td>\n",
       "      <td>79.99</td>\n",
       "    </tr>\n",
       "    <tr>\n",
       "      <th>ship_price</th>\n",
       "      <td>25.0</td>\n",
       "      <td>3.56</td>\n",
       "      <td>0.824116</td>\n",
       "      <td>0.00</td>\n",
       "      <td>3.60</td>\n",
       "      <td>3.60</td>\n",
       "      <td>3.60</td>\n",
       "      <td>4.90</td>\n",
       "    </tr>\n",
       "    <tr>\n",
       "      <th>final_price</th>\n",
       "      <td>25.0</td>\n",
       "      <td>15.43</td>\n",
       "      <td>16.410997</td>\n",
       "      <td>7.59</td>\n",
       "      <td>8.59</td>\n",
       "      <td>9.59</td>\n",
       "      <td>11.59</td>\n",
       "      <td>79.99</td>\n",
       "    </tr>\n",
       "  </tbody>\n",
       "</table>\n",
       "</div>"
      ],
      "text/plain": [
       "             count   mean        std   min   25%   50%    75%    max\n",
       "price         25.0  11.87  16.838250  3.99  4.99  5.99   7.99  79.99\n",
       "ship_price    25.0   3.56   0.824116  0.00  3.60  3.60   3.60   4.90\n",
       "final_price   25.0  15.43  16.410997  7.59  8.59  9.59  11.59  79.99"
      ]
     },
     "execution_count": 50,
     "metadata": {},
     "output_type": "execute_result"
    }
   ],
   "source": [
    "dfinal[['price', 'ship_price', 'final_price']].describe().T"
   ]
  }
 ],
 "metadata": {
  "kernelspec": {
   "display_name": "Python 3 (ipykernel)",
   "language": "python",
   "name": "python3"
  },
  "language_info": {
   "codemirror_mode": {
    "name": "ipython",
    "version": 3
   },
   "file_extension": ".py",
   "mimetype": "text/x-python",
   "name": "python",
   "nbconvert_exporter": "python",
   "pygments_lexer": "ipython3",
   "version": "3.11.5"
  }
 },
 "nbformat": 4,
 "nbformat_minor": 5
}
